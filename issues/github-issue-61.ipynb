{
 "metadata": {
  "name": "",
  "signature": "sha256:943aa1994f0d49a5b4c7f3fd868dd95f58cfe290d1d5e0e8584ab74c010a9f2b"
 },
 "nbformat": 3,
 "nbformat_minor": 0,
 "worksheets": [
  {
   "cells": [
    {
     "cell_type": "code",
     "collapsed": false,
     "input": [
      "%pylab inline\n",
      "import ephem\n",
      "from mpl_toolkits.basemap import Basemap"
     ],
     "language": "python",
     "metadata": {},
     "outputs": []
    },
    {
     "cell_type": "code",
     "collapsed": false,
     "input": [
      "names = ['Dubhe', 'Merak', 'Phecda', 'Megrez',\n",
      "         'Alioth', 'Mizar', 'Alcor', 'Alcaid',]\n",
      "stars = [ephem.star(name) for name in names]\n",
      "middle_star = stars[3]"
     ],
     "language": "python",
     "metadata": {},
     "outputs": []
    },
    {
     "cell_type": "code",
     "collapsed": false,
     "input": [
      "def dipper_radec(args):\n",
      "    for star in stars:\n",
      "        star.compute(*args)\n",
      "    ra = [-degrees(star.ra) for star in stars]\n",
      "    dec = [degrees(star.dec) for star in stars]\n",
      "    return ra, dec\n",
      "    \n",
      "def plot_dipper(*args):\n",
      "    ra, dec = dipper_radec(args)\n",
      "    width = 4000000\n",
      "    m = Basemap(width=width, height=width, projection='aeqd',\n",
      "                lat_0=dec[3], lon_0=ra[3])\n",
      "    m.drawparallels(np.arange(-80,81,10))\n",
      "    m.drawmeridians(np.arange(-180,180,10))\n",
      "    x, y = m(ra, dec)\n",
      "    m.plot(x, y, marker='o', linestyle='--', color='b')\n",
      "    plt.title('Big Dipper')"
     ],
     "language": "python",
     "metadata": {},
     "outputs": []
    },
    {
     "cell_type": "code",
     "collapsed": false,
     "input": [
      "plot_dipper()"
     ],
     "language": "python",
     "metadata": {},
     "outputs": []
    },
    {
     "cell_type": "code",
     "collapsed": false,
     "input": [],
     "language": "python",
     "metadata": {},
     "outputs": []
    }
   ],
   "metadata": {}
  }
 ]
}